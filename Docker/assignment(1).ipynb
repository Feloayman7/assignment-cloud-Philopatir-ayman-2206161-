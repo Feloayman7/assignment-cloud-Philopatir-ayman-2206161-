{
 "cells": [
  {
   "cell_type": "code",
   "execution_count": null,
   "id": "db144ae5-f0bc-4e58-bf36-fd3b4b6dbc18",
   "metadata": {},
   "outputs": [],
   "source": [
    "import pandas as pd\n",
    "\n",
    "df = pd.read_csv('books.csv')\n",
    "\n",
    "# Remove rows with missing values\n",
    "df = df.dropna()\n",
    "\n",
    "# Reset the index\n",
    "df = df.reset_index(drop=True)\n",
    "\n",
    "# Drop unnecessary columns\n",
    "df = df[['book_id', 'authors', 'original_title', 'title', 'average_rating', 'ratings_count']]\n",
    "\n",
    "# Filter the dataset for Harry Potter books\n",
    "harry_potter_books = df[df['authors'].str.contains('J.K. Rowling')]\n",
    "\n",
    "# Sort the books by ratings count in descending order\n",
    "harry_potter_books = harry_potter_books.sort_values('ratings_count', ascending=False)\n",
    "\n",
    "most_selling_books = harry_potter_books[['title', 'ratings_count']].head(5)\n",
    "average_rating = harry_potter_books['average_rating'].mean()\n",
    "# Print the most selling books\n",
    "print(\"Most Selling Books in the Harry Potter Series:\")\n",
    "print(most_selling_books)\n",
    "\n",
    "# Print the average rating\n",
    "print(\"\\nAverage Rating of the Harry Potter Books:\")\n",
    "print(average_rating)\n",
    "\n",
    "\n",
    "#the output\n",
    "#Most Selling Books in the Harry Potter Series:\n",
    "                                              #  title  ratings_count\n",
    "#1   Harry Potter and the Sorcerer's Stone (Harry P...        4602479\n",
    "#6   Harry Potter and the Prisoner of Azkaban (Harr...        1832823\n",
    "#9   Harry Potter and the Chamber of Secrets (Harry...        1779331\n",
    "#10  Harry Potter and the Goblet of Fire (Harry Pot...        1753043\n",
    "#11  Harry Potter and the Deathly Hallows (Harry Po...        1746574\n",
    "\n",
    "#Average Rating of the Harry Potter Books:\n",
    "4.441818181818183"
   ]
  }
 ],
 "metadata": {
  "kernelspec": {
   "display_name": "Python 3 (ipykernel)",
   "language": "python",
   "name": "python3"
  },
  "language_info": {
   "codemirror_mode": {
    "name": "ipython",
    "version": 3
   },
   "file_extension": ".py",
   "mimetype": "text/x-python",
   "name": "python",
   "nbconvert_exporter": "python",
   "pygments_lexer": "ipython3",
   "version": "3.11.6"
  }
 },
 "nbformat": 4,
 "nbformat_minor": 5
}
